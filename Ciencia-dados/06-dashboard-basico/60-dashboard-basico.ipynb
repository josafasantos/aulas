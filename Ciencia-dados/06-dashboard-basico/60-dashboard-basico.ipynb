{
 "cells": [
  {
   "cell_type": "markdown",
   "metadata": {},
   "source": [
    "# Dashboard Básico"
   ]
  },
  {
   "cell_type": "code",
   "execution_count": 9,
   "metadata": {},
   "outputs": [],
   "source": [
    "# Instalando biblioteca\n",
    "#%pip install dash"
   ]
  },
  {
   "cell_type": "code",
   "execution_count": 10,
   "metadata": {},
   "outputs": [],
   "source": [
    "# Importando bibliotecas\n",
    "import pandas as pd\n",
    "import dash\n",
    "from dash import dcc\n",
    "from dash import html\n",
    "from dash.dependencies import Input, Output\n",
    "import plotly.express as px"
   ]
  },
  {
   "cell_type": "markdown",
   "metadata": {},
   "source": [
    "### Carregamento e preparação dos dados"
   ]
  },
  {
   "cell_type": "code",
   "execution_count": 11,
   "metadata": {},
   "outputs": [],
   "source": [
    "# Carregar os dados\n",
    "df = pd.read_csv('../../datasets/weather_data.csv')"
   ]
  },
  {
   "cell_type": "code",
   "execution_count": 12,
   "metadata": {},
   "outputs": [],
   "source": [
    "# Preparar os dados\n",
    "df['Date'] = pd.to_datetime(df['Date'])"
   ]
  },
  {
   "cell_type": "code",
   "execution_count": 13,
   "metadata": {},
   "outputs": [],
   "source": [
    "# Calcula os KPIs\n",
    "average_temperature = df['Temperature_C'].mean()\n",
    "average_humidity = df['Humidity_percent'].mean()\n",
    "max_wind_speed = df['Wind_speed_kmh'].max()"
   ]
  },
  {
   "cell_type": "markdown",
   "metadata": {},
   "source": [
    "### Criação do Dash"
   ]
  },
  {
   "cell_type": "code",
   "execution_count": 14,
   "metadata": {},
   "outputs": [],
   "source": [
    "# Inicializa o Aplicativo Dash\n",
    "app = dash.Dash(__name__)"
   ]
  },
  {
   "cell_type": "code",
   "execution_count": 15,
   "metadata": {},
   "outputs": [],
   "source": [
    "# Layout do Dashboard\n",
    "app.layout = html.Div([\n",
    "  # Título principal\n",
    "  html.H1(\"Dashboard de Dados Meteorológicos\", style={'textAlign':'center'}),\n",
    "\n",
    "  # Container para os KPIs\n",
    "  html.Div([\n",
    "    # KPI de Temperatura Média\n",
    "    html.Div([\n",
    "      html.H3(\"Temperatura Média (°C)\", style={'textAlign': 'center'}),\n",
    "      html.P(f\"{average_temperature:.1f}\", style={'textAlign': 'center', 'fontSize':'24px'})\n",
    "    ], className=\"four columns\"),\n",
    "    # KPI de Umidade Média\n",
    "    html.Div([\n",
    "      html.H3(\"Umidade Média (%)\", style={'textAlign':'center'}),\n",
    "      html.P(f'{average_humidity:.1f}', style={'textAlign': 'center', 'fontSize':'24px'})\n",
    "    ], className=\"four columns\"),\n",
    "    # KPI de Velocidade Máxima do Vento\n",
    "    html.Div([\n",
    "      html.H3(\"Velocidade Máxima do vento (km/h)\", style={'textAlign':'center'}),\n",
    "      html.P(f\"{max_wind_speed}\", style={'textAlign':'center', 'fontSize': '24px'})\n",
    "    ], className='four columns')\n",
    "  ], className=\"row\"),\n",
    "\n",
    "  # Container para os gráficos de tendência\n",
    "  html.Div([\n",
    "    # Gráfico de Tendência da Temperatura\n",
    "    html.Div([\n",
    "      dcc.Graph(\n",
    "      id='temperature-trend-chart',\n",
    "      figure = px.line(df, x='Date', y='Temperature_C',\n",
    "                       title='Tendência da Temperatura ao Longo do Tempo',\n",
    "                       labels={'Temperature_C': 'Temperatura (°C)', 'Date': 'Data'}\n",
    "                       )\n",
    "      )\n",
    "    ], className='six columns'),\n",
    "    # Gráfico de Tendência de Umidade\n",
    "    html.Div([\n",
    "      dcc.Graph(\n",
    "        id=\"humidity-trend-chart\",\n",
    "        figure=px.line(df, x='Date', y='Humidity_percent',\n",
    "                       title='Tendência da Umidade ao Longo do Tempo',\n",
    "                       labels={'Humidity_percent':'Umidade (%)', 'Date': 'Data'}\n",
    "                       )\n",
    "      )\n",
    "    ], className='six columns')\n",
    "    \n",
    "  ], className='row')\n",
    "\n",
    "])"
   ]
  },
  {
   "cell_type": "code",
   "execution_count": 16,
   "metadata": {},
   "outputs": [
    {
     "data": {
      "text/html": [
       "\n",
       "        <iframe\n",
       "            width=\"100%\"\n",
       "            height=\"650\"\n",
       "            src=\"http://127.0.0.1:8050/\"\n",
       "            frameborder=\"0\"\n",
       "            allowfullscreen\n",
       "            \n",
       "        ></iframe>\n",
       "        "
      ],
      "text/plain": [
       "<IPython.lib.display.IFrame at 0x1988550db10>"
      ]
     },
     "metadata": {},
     "output_type": "display_data"
    }
   ],
   "source": [
    "app.run_server(debug=True)"
   ]
  }
 ],
 "metadata": {
  "kernelspec": {
   "display_name": "Python 3",
   "language": "python",
   "name": "python3"
  },
  "language_info": {
   "codemirror_mode": {
    "name": "ipython",
    "version": 3
   },
   "file_extension": ".py",
   "mimetype": "text/x-python",
   "name": "python",
   "nbconvert_exporter": "python",
   "pygments_lexer": "ipython3",
   "version": "3.10.0"
  }
 },
 "nbformat": 4,
 "nbformat_minor": 2
}
